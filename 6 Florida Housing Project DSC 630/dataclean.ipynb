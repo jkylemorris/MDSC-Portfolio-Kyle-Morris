{
 "cells": [
  {
   "cell_type": "code",
   "execution_count": 1,
   "metadata": {},
   "outputs": [
    {
     "data": {
      "text/plain": [
       "'\\n\\nThis code imports, cleans, and outputs our dataset.\\n\\n'"
      ]
     },
     "execution_count": 1,
     "metadata": {},
     "output_type": "execute_result"
    }
   ],
   "source": [
    "'''\n",
    "\n",
    "This code imports, cleans, and outputs our dataset.\n",
    "\n",
    "'''"
   ]
  },
  {
   "cell_type": "code",
   "execution_count": 2,
   "metadata": {},
   "outputs": [],
   "source": [
    "import pandas as pd\n",
    "import numpy as np\n",
    "\n",
    "df = pd.read_csv('psam_h12.csv')\n",
    "#df = df.fillna(0)                   # In our original data, blank is NA. 0 is never used as an actual value, so I have replaced\n",
    "                                    # NA with 0. Actually, it is a lot, so we'll have to pick which ones will get which values."
   ]
  },
  {
   "cell_type": "code",
   "execution_count": 3,
   "metadata": {},
   "outputs": [],
   "source": [
    "def replacer(column, value):\n",
    "    return df[column].fillna(value)\n",
    "    "
   ]
  },
  {
   "cell_type": "code",
   "execution_count": 4,
   "metadata": {},
   "outputs": [],
   "source": [
    "negatives = ['BDSP', 'HUGCL', 'NPP', 'NR', 'NRC', 'PARTNER', 'PSF', 'R18', 'R60', 'R65', 'SRNT', 'SSMC', 'SVAL']\n",
    "averages = ['FINCP', 'OCPIP', 'SMOCP']\n",
    "\n",
    "for column in negatives:\n",
    "    df[column] = replacer(column, -1)\n",
    "\n",
    "for column in averages:\n",
    "    df[column] = replacer(column, df[column].mean(skipna = True))\n",
    "    \n",
    "for column in list(df):\n",
    "    df[column] = replacer(column, 0)"
   ]
  },
  {
   "cell_type": "code",
   "execution_count": 5,
   "metadata": {},
   "outputs": [
    {
     "name": "stdout",
     "output_type": "stream",
     "text": [
      "  RT       SERIALNO  DIVISION   PUMA  REGION  ST   ADJHSG   ADJINC  WGTP  NP  \\\n",
      "0  H  2018GQ0000011         5  12702       3  12  1000000  1013097     0   1   \n",
      "1  H  2018GQ0000056         5   9907       3  12  1000000  1013097     0   1   \n",
      "2  H  2018GQ0000085         5   7102       3  12  1000000  1013097     0   1   \n",
      "3  H  2018GQ0000092         5   3302       3  12  1000000  1013097     0   1   \n",
      "4  H  2018GQ0000104         5  10501       3  12  1000000  1013097     0   1   \n",
      "\n",
      "    ...    WGTP71  WGTP72  WGTP73  WGTP74  WGTP75  WGTP76  WGTP77  WGTP78  \\\n",
      "0   ...         0       0       0       0       0       0       0       0   \n",
      "1   ...         0       0       0       0       0       0       0       0   \n",
      "2   ...         0       0       0       0       0       0       0       0   \n",
      "3   ...         0       0       0       0       0       0       0       0   \n",
      "4   ...         0       0       0       0       0       0       0       0   \n",
      "\n",
      "   WGTP79  WGTP80  \n",
      "0       0       0  \n",
      "1       0       0  \n",
      "2       0       0  \n",
      "3       0       0  \n",
      "4       0       0  \n",
      "\n",
      "[5 rows x 234 columns]\n"
     ]
    }
   ],
   "source": [
    "\n",
    "print(df.head())\n",
    "\n",
    "for column in list(df):\n",
    "      if (df[column].isna().sum() > 0):\n",
    "          print(\"NA Column: \" + column)\n",
    "      \n",
    "      \n",
    "#print(df.isna().sum())"
   ]
  },
  {
   "cell_type": "code",
   "execution_count": 6,
   "metadata": {},
   "outputs": [
    {
     "data": {
      "text/plain": [
       " 3.0    37914\n",
       " 2.0    30502\n",
       " 4.0    13630\n",
       " 1.0     8867\n",
       "-1.0     8262\n",
       " 5.0     2770\n",
       " 0.0     1791\n",
       "Name: BDSP, dtype: int64"
      ]
     },
     "execution_count": 6,
     "metadata": {},
     "output_type": "execute_result"
    }
   ],
   "source": [
    "df['BDSP'].value_counts()"
   ]
  },
  {
   "cell_type": "code",
   "execution_count": 7,
   "metadata": {},
   "outputs": [],
   "source": [
    "df.to_csv('houseclean.csv')"
   ]
  },
  {
   "cell_type": "code",
   "execution_count": null,
   "metadata": {},
   "outputs": [],
   "source": []
  }
 ],
 "metadata": {
  "kernelspec": {
   "display_name": "Python 3",
   "language": "python",
   "name": "python3"
  },
  "language_info": {
   "codemirror_mode": {
    "name": "ipython",
    "version": 3
   },
   "file_extension": ".py",
   "mimetype": "text/x-python",
   "name": "python",
   "nbconvert_exporter": "python",
   "pygments_lexer": "ipython3",
   "version": "3.7.1"
  }
 },
 "nbformat": 4,
 "nbformat_minor": 2
}
